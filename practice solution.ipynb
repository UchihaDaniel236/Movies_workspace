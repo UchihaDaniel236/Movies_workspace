{
 "cells": [
  {
   "cell_type": "code",
   "execution_count": null,
   "outputs": [],
   "source": [
    "import pandas as pd"
   ],
   "metadata": {
    "collapsed": false
   }
  },
  {
   "cell_type": "code",
   "execution_count": null,
   "outputs": [],
   "source": [
    "df_movies = pd.read_csv('movies.csv', parse_dates=['YEAR'])\n",
    "display(df_movies)"
   ],
   "metadata": {
    "collapsed": false
   }
  },
  {
   "cell_type": "code",
   "execution_count": null,
   "outputs": [],
   "source": [
    "df_movies.info()"
   ],
   "metadata": {
    "collapsed": false
   }
  },
  {
   "cell_type": "code",
   "execution_count": null,
   "outputs": [],
   "source": [
    "df_movies.isnull().sum()"
   ],
   "metadata": {
    "collapsed": false
   }
  },
  {
   "cell_type": "code",
   "execution_count": null,
   "outputs": [],
   "source": [
    "def drop_null(data, col_name):\n",
    "    df = data.dropna(subset=col_name)\n",
    "    return df\n",
    "cols = ['YEAR','GENRE','RunTime']\n",
    "for col in cols:\n",
    "    df_movies = drop_null(df_movies,col)"
   ],
   "metadata": {
    "collapsed": false
   }
  },
  {
   "cell_type": "code",
   "execution_count": null,
   "outputs": [],
   "source": [
    "def fill_nulls(df, columns, default_value):\n",
    "    \"\"\"\n",
    "    Fill null values in the specified columns of a pandas dataframe\n",
    "    with the specified default value.\n",
    "\n",
    "    Parameters:\n",
    "    df (pandas.DataFrame): The dataframe to modify\n",
    "    columns (list of str): The names of the columns to fill nulls in\n",
    "    default_value (varies): The value to fill nulls with. This can be any\n",
    "        valid value for the column's data type.\n",
    "\n",
    "    Returns:\n",
    "    pandas.DataFrame: The modified dataframe with nulls filled in.\n",
    "    \"\"\"\n",
    "    for column in columns:\n",
    "        df[column] = df[column].fillna(default_value)\n",
    "\n",
    "    return df\n",
    "\n",
    "col = ['RATING','VOTES','Gross']\n",
    "df_movies = fill_nulls(df_movies,col,0)"
   ],
   "metadata": {
    "collapsed": false
   }
  },
  {
   "cell_type": "code",
   "execution_count": null,
   "outputs": [],
   "source": [
    "def remove_newlines(df, columns):\n",
    "    \"\"\"\n",
    "    Remove newlines from the strings in the specified columns of a pandas\n",
    "    dataframe.\n",
    "\n",
    "    Parameters:\n",
    "    df (pandas.DataFrame): The dataframe to modify\n",
    "    columns (list of str): The names of the columns to remove newlines from\n",
    "\n",
    "    Returns:\n",
    "    pandas.DataFrame: The modified dataframe with newlines removed from the\n",
    "        specified columns.\n",
    "    \"\"\"\n",
    "    for column in columns:\n",
    "        df[column] = df[column].apply(lambda x: x.replace('\\n', ''))\n",
    "\n",
    "    return df\n",
    "\n",
    "cols = ['GENRE','ONE-LINE']\n",
    "df_movies = remove_newlines(df_movies,cols)"
   ],
   "metadata": {
    "collapsed": false
   }
  },
  {
   "cell_type": "code",
   "execution_count": null,
   "outputs": [],
   "source": [
    "def clean_year_range_data(df, column):\n",
    "    \"\"\"\n",
    "    Clean a column of year range data in parentheses to only include single\n",
    "    years in a pandas dataframe.\n",
    "\n",
    "    Parameters:\n",
    "    df (pandas.DataFrame): The dataframe to modify\n",
    "    column (str): The name of the column to modify\n",
    "\n",
    "    Returns:\n",
    "    pandas.DataFrame: The modified dataframe with cleaned year data in the\n",
    "        specified column.\n",
    "    \"\"\"\n",
    "    # Remove parentheses\n",
    "    df[column] = df[column].str.replace('[()]', '')\n",
    "\n",
    "    # Split year ranges on hyphen and keep only first year\n",
    "    df[column] = df[column].apply(lambda x: x.split('-')[0] if '-' in x else x)\n",
    "\n",
    "    # Keep only four-digit year strings\n",
    "    df[column] = df[column].str.extract('(\\d{4})', expand=False)\n",
    "\n",
    "    return df\n",
    "\n",
    "df_movies = clean_year_range_data(df_movies,'YEAR')"
   ],
   "metadata": {
    "collapsed": false
   }
  },
  {
   "cell_type": "code",
   "execution_count": null,
   "outputs": [],
   "source": [
    "df_movies"
   ],
   "metadata": {
    "collapsed": false
   }
  },
  {
   "cell_type": "code",
   "execution_count": null,
   "outputs": [],
   "source": [
    "df_movies.to_csv('clean_movies.csv')"
   ],
   "metadata": {
    "collapsed": false
   }
  }
 ],
 "metadata": {
  "kernelspec": {
   "display_name": "Python 3",
   "language": "python",
   "name": "python3"
  },
  "language_info": {
   "codemirror_mode": {
    "name": "ipython",
    "version": 2
   },
   "file_extension": ".py",
   "mimetype": "text/x-python",
   "name": "python",
   "nbconvert_exporter": "python",
   "pygments_lexer": "ipython2",
   "version": "2.7.6"
  }
 },
 "nbformat": 4,
 "nbformat_minor": 0
}
